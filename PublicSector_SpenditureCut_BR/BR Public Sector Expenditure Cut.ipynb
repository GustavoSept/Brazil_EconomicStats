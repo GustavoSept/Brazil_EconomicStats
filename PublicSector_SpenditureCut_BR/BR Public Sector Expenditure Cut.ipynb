{
 "cells": [
  {
   "cell_type": "markdown",
   "id": "7fbe86a5",
   "metadata": {},
   "source": [
    "# How much money can we save by cutting public sector wages?"
   ]
  },
  {
   "cell_type": "code",
   "execution_count": 1,
   "id": "1a64e03d",
   "metadata": {},
   "outputs": [],
   "source": [
    "import pandas as pd\n",
    "import numpy as np\n",
    "\n",
    "from scipy.special import erfinv\n",
    "from scipy.optimize import minimize\n",
    "\n",
    "import matplotlib.pyplot as plt\n",
    "import seaborn as sns"
   ]
  },
  {
   "cell_type": "code",
   "execution_count": 2,
   "id": "5b555381",
   "metadata": {},
   "outputs": [],
   "source": [
    "df = pd.read_csv('3399-dados.csv', sep=';')"
   ]
  },
  {
   "cell_type": "markdown",
   "id": "5ea052eb",
   "metadata": {},
   "source": [
    "### Filtering and cleaning the dataset"
   ]
  },
  {
   "cell_type": "code",
   "execution_count": 3,
   "id": "969dd5b1",
   "metadata": {},
   "outputs": [
    {
     "name": "stdout",
     "output_type": "stream",
     "text": [
      "<class 'pandas.core.frame.DataFrame'>\n",
      "Index: 77 entries, 0 to 5262\n",
      "Data columns (total 3 columns):\n",
      " #   Column  Non-Null Count  Dtype   \n",
      "---  ------  --------------  -----   \n",
      " 0   origem  77 non-null     category\n",
      " 1   part    77 non-null     category\n",
      " 2   valor   77 non-null     float64 \n",
      "dtypes: category(2), float64(1)\n",
      "memory usage: 2.1 KB\n"
     ]
    }
   ],
   "source": [
    "df = df[df['ano'] == 2019]\n",
    "\n",
    "df = df[(df['origem'] == 'Público') | \\\n",
    "        (df['origem'] == 'Executivo') |\\\n",
    "        (df['origem'] == 'Legislativo') |\\\n",
    "        (df['origem'] == 'Judiciário') |\\\n",
    "        (df['origem'] == 'Federal') |\\\n",
    "        (df['origem'] == 'Estadual') |\\\n",
    "        (df['origem'] == 'Municipal')\n",
    "       ]\n",
    "\n",
    "df['part'] = df['part'].astype('category')\n",
    "df['origem'] = df['origem'].astype('category')\n",
    "\n",
    "df_2019 = df.drop(['ano'], axis=1)\n",
    "\n",
    "df_2019.info()"
   ]
  },
  {
   "cell_type": "code",
   "execution_count": 4,
   "id": "1ab3b591",
   "metadata": {},
   "outputs": [],
   "source": [
    "#Organizing values for correct display on original data\n",
    "\n",
    "replace_dict = {\n",
    "    '1º Decil': '10th Dec',\n",
    "    '2º Decil': '20th Dec',\n",
    "    '3º Decil': '30th Dec',\n",
    "    '4º Decil': '40th Dec',\n",
    "    '6º Decil': '60th Dec',\n",
    "    '7º Decil': '70th Dec',\n",
    "    '8º Decil': '80th Dec',\n",
    "    '9º Decil': '90th Dec',\n",
    "    '1º Quartil': '25th Dec',\n",
    "    '3º Quartil': '75th Dec',\n",
    "    'Mediana': '50th Dec'\n",
    "}\n",
    "\n",
    "df_2019['part'] = df_2019['part'].replace(replace_dict)\n",
    "\n",
    "\n",
    "order = sorted(df_2019['part'].unique())"
   ]
  },
  {
   "cell_type": "markdown",
   "id": "7eba9320",
   "metadata": {},
   "source": [
    "### Generating Distributions"
   ]
  },
  {
   "cell_type": "code",
   "execution_count": 7,
   "id": "b00d16a1",
   "metadata": {},
   "outputs": [],
   "source": [
    "# Organizing a new DataFrame, to generate a distribution with 'fake' data.\n",
    "# This will make some calculations easier down the road.\n",
    "\n",
    "\n",
    "# Convert the 'part' column to a numerical representation of deciles\n",
    "# For example, '10th Dec' becomes 0.1, '20th Dec' becomes 0.2, etc.\n",
    "df_2019_faux = df_2019.copy()\n",
    "df_2019_faux['decile'] = df_2019_faux['part'].str.extract('(\\d+)').astype(int)/10\n",
    "\n",
    "\n",
    "\n",
    "# Drop the original 'part' column as we now have 'decile'\n",
    "df_2019_faux = df_2019_faux.drop(['part'], axis=1)\n",
    "\n",
    "df_2019_faux = df_2019_faux.sort_values(by=['origem', 'decile'])"
   ]
  },
  {
   "cell_type": "code",
   "execution_count": 8,
   "id": "ff01f1b5",
   "metadata": {},
   "outputs": [
    {
     "data": {
      "text/plain": [
       "Index(['origem', 'valor', 'decile'], dtype='object')"
      ]
     },
     "execution_count": 8,
     "metadata": {},
     "output_type": "execute_result"
    }
   ],
   "source": [
    "df_2019_faux.columns"
   ]
  },
  {
   "cell_type": "code",
   "execution_count": 42,
   "id": "2c3d4cd1",
   "metadata": {},
   "outputs": [],
   "source": [
    "# Initialize an empty DataFrame to store the generated fake data\n",
    "fake_data_df = pd.DataFrame(columns=['origem', 'fake_wage'])\n",
    "\n",
    "sampleAmount = 500000\n",
    "\n",
    "# Initialize a list to collect DataFrames\n",
    "fake_data_dfs = []\n",
    "\n",
    "# Loop through each unique 'origem' to generate the fake data\n",
    "for origem in df_2019_faux['origem'].unique():\n",
    "    \n",
    "    df_origem = df_2019_faux[df_2019_faux['origem'] == origem]    \n",
    "\n",
    "    # Extract the deciles and corresponding wage values\n",
    "    deciles = df_origem['decile'].values\n",
    "    wages = df_origem['valor'].values\n",
    "\n",
    "    # Generate 'X amount' of random samples between the minimum and maximum decile\n",
    "    random_deciles = np.random.uniform(min(deciles), max(deciles), sampleAmount)\n",
    "\n",
    "    # Use linear interpolation to find the corresponding wage values for the random samples\n",
    "    fake_wages = np.interp(random_deciles, deciles, wages)\n",
    "\n",
    "    # Create a DataFrame, then append it to the list\n",
    "    fake_data_origem = pd.DataFrame({'origem': [origem] * sampleAmount, 'fake_wage': fake_wages})\n",
    "    fake_data_dfs.append(fake_data_origem)\n",
    "\n",
    "# Concatenate all the collected DataFrames at once\n",
    "fake_data_df = pd.concat(fake_data_dfs, ignore_index=True)"
   ]
  },
  {
   "cell_type": "code",
   "execution_count": 43,
   "id": "be86dafa",
   "metadata": {},
   "outputs": [],
   "source": [
    "# Filter the fake data for 'Executivo'\n",
    "\n",
    "fake_data_executivo = fake_data_df[fake_data_df['origem'] == 'Executivo']"
   ]
  },
  {
   "cell_type": "code",
   "execution_count": 44,
   "id": "e110bbad",
   "metadata": {},
   "outputs": [
    {
     "data": {
      "text/html": [
       "<div>\n",
       "<style scoped>\n",
       "    .dataframe tbody tr th:only-of-type {\n",
       "        vertical-align: middle;\n",
       "    }\n",
       "\n",
       "    .dataframe tbody tr th {\n",
       "        vertical-align: top;\n",
       "    }\n",
       "\n",
       "    .dataframe thead th {\n",
       "        text-align: right;\n",
       "    }\n",
       "</style>\n",
       "<table border=\"1\" class=\"dataframe\">\n",
       "  <thead>\n",
       "    <tr style=\"text-align: right;\">\n",
       "      <th></th>\n",
       "      <th>fake_data</th>\n",
       "      <th>real_data</th>\n",
       "      <th>difference</th>\n",
       "    </tr>\n",
       "  </thead>\n",
       "  <tbody>\n",
       "    <tr>\n",
       "      <th>count</th>\n",
       "      <td>500000.000000</td>\n",
       "      <td>11.000000</td>\n",
       "      <td>4545354.55</td>\n",
       "    </tr>\n",
       "    <tr>\n",
       "      <th>mean</th>\n",
       "      <td>3225.542638</td>\n",
       "      <td>3355.094545</td>\n",
       "      <td>-3.86</td>\n",
       "    </tr>\n",
       "    <tr>\n",
       "      <th>std</th>\n",
       "      <td>1777.216307</td>\n",
       "      <td>2152.275880</td>\n",
       "      <td>-17.43</td>\n",
       "    </tr>\n",
       "    <tr>\n",
       "      <th>min</th>\n",
       "      <td>1187.620371</td>\n",
       "      <td>1187.620000</td>\n",
       "      <td>0.00</td>\n",
       "    </tr>\n",
       "    <tr>\n",
       "      <th>10%</th>\n",
       "      <td>1395.458363</td>\n",
       "      <td>1447.100000</td>\n",
       "      <td>-3.57</td>\n",
       "    </tr>\n",
       "    <tr>\n",
       "      <th>20%</th>\n",
       "      <td>1632.106263</td>\n",
       "      <td>1596.800000</td>\n",
       "      <td>2.21</td>\n",
       "    </tr>\n",
       "    <tr>\n",
       "      <th>25%</th>\n",
       "      <td>1776.810534</td>\n",
       "      <td>1686.620000</td>\n",
       "      <td>5.35</td>\n",
       "    </tr>\n",
       "    <tr>\n",
       "      <th>30%</th>\n",
       "      <td>1941.903306</td>\n",
       "      <td>1776.440000</td>\n",
       "      <td>9.31</td>\n",
       "    </tr>\n",
       "    <tr>\n",
       "      <th>40%</th>\n",
       "      <td>2285.880192</td>\n",
       "      <td>2185.620000</td>\n",
       "      <td>4.59</td>\n",
       "    </tr>\n",
       "    <tr>\n",
       "      <th>50%</th>\n",
       "      <td>2695.142663</td>\n",
       "      <td>2694.600000</td>\n",
       "      <td>0.02</td>\n",
       "    </tr>\n",
       "    <tr>\n",
       "      <th>60%</th>\n",
       "      <td>3213.758038</td>\n",
       "      <td>3343.300000</td>\n",
       "      <td>-3.87</td>\n",
       "    </tr>\n",
       "    <tr>\n",
       "      <th>70%</th>\n",
       "      <td>3868.818640</td>\n",
       "      <td>4221.540000</td>\n",
       "      <td>-8.36</td>\n",
       "    </tr>\n",
       "    <tr>\n",
       "      <th>75%</th>\n",
       "      <td>4223.898136</td>\n",
       "      <td>4500.980000</td>\n",
       "      <td>-6.16</td>\n",
       "    </tr>\n",
       "    <tr>\n",
       "      <th>80%</th>\n",
       "      <td>4671.971212</td>\n",
       "      <td>4780.420000</td>\n",
       "      <td>-2.27</td>\n",
       "    </tr>\n",
       "    <tr>\n",
       "      <th>90%</th>\n",
       "      <td>6032.292597</td>\n",
       "      <td>5498.980000</td>\n",
       "      <td>9.70</td>\n",
       "    </tr>\n",
       "    <tr>\n",
       "      <th>max</th>\n",
       "      <td>8173.534894</td>\n",
       "      <td>8173.620000</td>\n",
       "      <td>-0.00</td>\n",
       "    </tr>\n",
       "  </tbody>\n",
       "</table>\n",
       "</div>"
      ],
      "text/plain": [
       "           fake_data    real_data  difference\n",
       "count  500000.000000    11.000000  4545354.55\n",
       "mean     3225.542638  3355.094545       -3.86\n",
       "std      1777.216307  2152.275880      -17.43\n",
       "min      1187.620371  1187.620000        0.00\n",
       "10%      1395.458363  1447.100000       -3.57\n",
       "20%      1632.106263  1596.800000        2.21\n",
       "25%      1776.810534  1686.620000        5.35\n",
       "30%      1941.903306  1776.440000        9.31\n",
       "40%      2285.880192  2185.620000        4.59\n",
       "50%      2695.142663  2694.600000        0.02\n",
       "60%      3213.758038  3343.300000       -3.87\n",
       "70%      3868.818640  4221.540000       -8.36\n",
       "75%      4223.898136  4500.980000       -6.16\n",
       "80%      4671.971212  4780.420000       -2.27\n",
       "90%      6032.292597  5498.980000        9.70\n",
       "max      8173.534894  8173.620000       -0.00"
      ]
     },
     "execution_count": 44,
     "metadata": {},
     "output_type": "execute_result"
    }
   ],
   "source": [
    "comparison_df = pd.DataFrame()\n",
    "\n",
    "percentList = [.1, .2, .25, .3, .4, .5, .6, .7, .75, .8, .9]\n",
    "\n",
    "comparison_df['fake_data'] = fake_data_executivo.describe(percentiles = percentList)\n",
    "comparison_df['real_data'] = df_2019[df_2019['origem'] == 'Executivo'].describe(percentiles = percentList)\n",
    "\n",
    "comparison_df['difference'] = ((comparison_df['fake_data'] - comparison_df['real_data']) / comparison_df['real_data']) * 100\n",
    "\n",
    "comparison_df['difference'] = comparison_df['difference'].round(2)\n",
    "\n",
    "comparison_df"
   ]
  },
  {
   "cell_type": "code",
   "execution_count": 12,
   "id": "7893ded7",
   "metadata": {},
   "outputs": [
    {
     "data": {
      "image/png": "[encoded data removed]",
      "text/plain": [
       "<Figure size 1200x600 with 1 Axes>"
      ]
     },
     "metadata": {},
     "output_type": "display_data"
    }
   ],
   "source": [
    "# Plot the distribution of the fake wage data for 'Executivo'\n",
    "\n",
    "plt.figure(figsize=(12, 6))\n",
    "\n",
    "sns.histplot(fake_data_executivo['fake_wage'], bins=30, kde=True)\n",
    "plt.title('Distribution of Fake Wage Data for Executivo')\n",
    "plt.xlabel('Wage')\n",
    "plt.ylabel('Frequency')\n",
    "plt.show()"
   ]
  },
  {
   "cell_type": "code",
   "execution_count": 18,
   "id": "efd75255",
   "metadata": {},
   "outputs": [
    {
     "data": {
      "image/png": "[encoded data removed]",
      "text/plain": [
       "<Figure size 1200x600 with 1 Axes>"
      ]
     },
     "metadata": {},
     "output_type": "display_data"
    }
   ],
   "source": [
    "plt.figure(figsize=(12, 6))\n",
    "\n",
    "sns.barplot(x='part', y='valor', data= df_2019[df_2019['origem'] == 'Executivo'], order = order)\n",
    "plt.title('Decile | Real Wage Data for Executivo')\n",
    "plt.xlabel('Decile')\n",
    "plt.ylabel('Wage')\n",
    "plt.show()"
   ]
  },
  {
   "cell_type": "code",
   "execution_count": null,
   "id": "3d9b2fce",
   "metadata": {},
   "outputs": [],
   "source": []
  },
  {
   "cell_type": "code",
   "execution_count": null,
   "id": "51fe17dc",
   "metadata": {},
   "outputs": [],
   "source": [
    "###\n",
    "\n",
    "\n",
    "\n",
    "\n",
    "\n",
    "\n",
    "\n",
    "\n",
    "\n",
    "\n",
    "\n",
    "\n",
    "\n",
    "\n",
    "\n",
    "\n",
    "\n",
    "\n",
    "\n",
    "\n",
    "\n",
    "###"
   ]
  }
 ],
 "metadata": {
  "kernelspec": {
   "display_name": "Python 3 (ipykernel)",
   "language": "python",
   "name": "python3"
  },
  "language_info": {
   "codemirror_mode": {
    "name": "ipython",
    "version": 3
   },
   "file_extension": ".py",
   "mimetype": "text/x-python",
   "name": "python",
   "nbconvert_exporter": "python",
   "pygments_lexer": "ipython3",
   "version": "3.10.13"
  }
 },
 "nbformat": 4,
 "nbformat_minor": 5
}
