{
 "cells": [
  {
   "cell_type": "markdown",
   "id": "7fbe86a5",
   "metadata": {},
   "source": [
    "# How much money can we save by cutting public sector wages?\n",
    "We'll use marginal rates, so that we can protect those who don't earn that much.\n",
    "\n",
    "This notebook is a mere rough estimation of how much we could potentially save. For a more precise result, we'd need to generate a Probability Density Function using a distribution that makes sense for each group, but that would need a bit more data to be achieved properly.\n",
    "\n",
    "All data is from Brazil in 2019.\n",
    "\n",
    "\n",
    "**Notes:** The source for any magic number you may encounter in this notebook is from [\"IPEA's Atlas do Estado Brasileiro\"](https://www.ipea.gov.br/atlasestado/), unless otherwise stated.\n",
    "\n",
    "I've kept the original names of each group intact (Executivo, Judiciario and Legislativo). They respectively mean the Executive, Judiciary and Legislative branches."
   ]
  },
  {
   "cell_type": "code",
   "execution_count": 1,
   "id": "1a64e03d",
   "metadata": {},
   "outputs": [],
   "source": [
    "import pandas as pd\n",
    "import numpy as np\n",
    "\n",
    "import matplotlib.pyplot as plt\n",
    "import seaborn as sns"
   ]
  },
  {
   "cell_type": "markdown",
   "id": "c562c9de",
   "metadata": {},
   "source": [
    "### Filtering and cleaning the dataset"
   ]
  },
  {
   "cell_type": "code",
   "execution_count": 2,
   "id": "5b555381",
   "metadata": {},
   "outputs": [],
   "source": [
    "df = pd.read_csv('9532-dados1.csv', sep = ';')\n",
    "\n",
    "df = df[df['ano'] == 2019]\n",
    "\n",
    "df.rename(columns={'poder': 'group'}, inplace = True)\n",
    "df.rename(columns={'faixa': 'range'}, inplace = True)\n",
    "df.rename(columns={'percentual': 'percentage'}, inplace = True)\n",
    "\n",
    "df = df.iloc[:, 1:4]\n",
    "\n",
    "df['group'] = df['group'].astype('category')\n",
    "df['range'] = df['range'].astype('category')"
   ]
  },
  {
   "cell_type": "markdown",
   "id": "f1ed49f4",
   "metadata": {},
   "source": [
    "### Generating wage numbers\n",
    "For future calculations, I will consider that anyone who earns more than 30k as the following:\n",
    "\n",
    "**Executivo:** 22 mil\n",
    "\n",
    "**Legislativo:** 33 mil\n",
    "\n",
    "**Judiciario:** 41.35 mil"
   ]
  },
  {
   "cell_type": "code",
   "execution_count": 3,
   "id": "c646cbd4",
   "metadata": {},
   "outputs": [
    {
     "data": {
      "text/html": [
       "<div>\n",
       "<style scoped>\n",
       "    .dataframe tbody tr th:only-of-type {\n",
       "        vertical-align: middle;\n",
       "    }\n",
       "\n",
       "    .dataframe tbody tr th {\n",
       "        vertical-align: top;\n",
       "    }\n",
       "\n",
       "    .dataframe thead th {\n",
       "        text-align: right;\n",
       "    }\n",
       "</style>\n",
       "<table border=\"1\" class=\"dataframe\">\n",
       "  <thead>\n",
       "    <tr style=\"text-align: right;\">\n",
       "      <th></th>\n",
       "      <th>group</th>\n",
       "      <th>range</th>\n",
       "      <th>percentage</th>\n",
       "      <th>meanWage</th>\n",
       "    </tr>\n",
       "  </thead>\n",
       "  <tbody>\n",
       "    <tr>\n",
       "      <th>0</th>\n",
       "      <td>Executivo</td>\n",
       "      <td>&lt; 2,5 mil</td>\n",
       "      <td>0.464444</td>\n",
       "      <td>1400.0</td>\n",
       "    </tr>\n",
       "    <tr>\n",
       "      <th>1</th>\n",
       "      <td>Executivo</td>\n",
       "      <td>2,5 - 5 mil</td>\n",
       "      <td>0.302453</td>\n",
       "      <td>3750.0</td>\n",
       "    </tr>\n",
       "    <tr>\n",
       "      <th>2</th>\n",
       "      <td>Executivo</td>\n",
       "      <td>5 - 7,5 mil</td>\n",
       "      <td>0.116305</td>\n",
       "      <td>6250.0</td>\n",
       "    </tr>\n",
       "    <tr>\n",
       "      <th>3</th>\n",
       "      <td>Executivo</td>\n",
       "      <td>7,5 - 10 mil</td>\n",
       "      <td>0.049220</td>\n",
       "      <td>8750.0</td>\n",
       "    </tr>\n",
       "    <tr>\n",
       "      <th>4</th>\n",
       "      <td>Executivo</td>\n",
       "      <td>10 - 12,5 mil</td>\n",
       "      <td>0.024077</td>\n",
       "      <td>11250.0</td>\n",
       "    </tr>\n",
       "  </tbody>\n",
       "</table>\n",
       "</div>"
      ],
      "text/plain": [
       "       group          range  percentage  meanWage\n",
       "0  Executivo      < 2,5 mil    0.464444    1400.0\n",
       "1  Executivo    2,5 - 5 mil    0.302453    3750.0\n",
       "2  Executivo    5 - 7,5 mil    0.116305    6250.0\n",
       "3  Executivo   7,5 - 10 mil    0.049220    8750.0\n",
       "4  Executivo  10 - 12,5 mil    0.024077   11250.0"
      ]
     },
     "execution_count": 3,
     "metadata": {},
     "output_type": "execute_result"
    }
   ],
   "source": [
    "df['meanWage'] = [1.4, (2.5 + 5)/2, (5 + 7.5)/2, (7.5 + 10)/2,\n",
    "                    (10 + 12.5)/2, (12.5 + 15)/2, (15 + 17.5)/2, (17.5 + 20)/2,\n",
    "                    (20 + 22.5)/2, (22.5 + 25)/2, (25 + 27.5)/2, (27.5 + 30)/2, 41.35]*3\n",
    "\n",
    "df.loc[38, 'meanWage'] = 33 #fixing legislativo value\n",
    "df.loc[12, 'meanWage'] = 22 #fixing executivo value\n",
    "\n",
    "df['meanWage'] = df['meanWage'] * 1000 #re-scaling values\n",
    "df.head()"
   ]
  },
  {
   "cell_type": "markdown",
   "id": "62c3d0ff",
   "metadata": {},
   "source": [
    "### Calculating population"
   ]
  },
  {
   "cell_type": "markdown",
   "id": "6f1fedbb",
   "metadata": {},
   "source": [
    "A quick google search tells us that there are 10.89 million public sector workers in Brazil.\n",
    "\n",
    "**Executivo: 10,023 thousand**\n",
    "\n",
    "**Judiciário: 360.12 thousand**\n",
    "\n",
    "**Legislativo: 304.29 thousand**"
   ]
  },
  {
   "cell_type": "code",
   "execution_count": 4,
   "id": "9eedd34c",
   "metadata": {},
   "outputs": [],
   "source": [
    "df.loc[df['group'] == 'Executivo', 'population'] = df['percentage'] * 10_023_000\n",
    "df.loc[df['group'] == 'Judiciario', 'population'] = df['percentage'] * 360_120\n",
    "df.loc[df['group'] == 'Legislativo', 'population'] = df['percentage'] * 304_290\n",
    "\n",
    "df['population'] = df['population'].astype('int')"
   ]
  },
  {
   "cell_type": "markdown",
   "id": "419c61fc",
   "metadata": {},
   "source": [
    "### Calculating marginal rates\n",
    "We'll test with 2 different *marginal* rates tables to calculate how much money we can potentially save.\n",
    "\n",
    "#### Soft cut\n",
    "|Wage|Rate|\n",
    "|---|---|\n",
    "|Up to 3750 | 0% |\n",
    "|3751 ~ 11250 | 4% |\n",
    "|11251 ~ 21250|\t8% |\n",
    "|Above 21251| 12% |\n",
    "\n",
    "#### Aggressive cut\n",
    "\n",
    "|Wage|Rate|\n",
    "|---|---|\n",
    "|Up to 3750 | 3% |\n",
    "|3751 ~ 11250 | 15% |\n",
    "|11251 ~ 21250|\t35% |\n",
    "|Above 21251| 66% |"
   ]
  },
  {
   "cell_type": "code",
   "execution_count": 5,
   "id": "eda77807",
   "metadata": {},
   "outputs": [],
   "source": [
    "def marginalWageCut(df, rates=[0, 0, 0, 0]):  \n",
    "    # For each row, we're going to add up the portions of the wage that fall into each bracket\n",
    "    for idx, row in df.iterrows():\n",
    "        wage = row['meanWage']\n",
    "        newWage = 0\n",
    "        \n",
    "        if wage <= 3750:\n",
    "            newWage += wage * (1 - rates[0])\n",
    "        else:\n",
    "            newWage += 3750 * (1 - rates[0])\n",
    "        \n",
    "        if wage > 3750 and wage <= 11250:\n",
    "            newWage += (wage - 3750) * (1 - rates[1])\n",
    "        elif wage > 11250:\n",
    "            newWage += (11250 - 3750) * (1 - rates[1])\n",
    "            \n",
    "        if wage > 11250 and wage <= 21250:\n",
    "            newWage += (wage - 11250) * (1 - rates[2])\n",
    "        elif wage > 21250:\n",
    "            newWage += (21250 - 11250) * (1 - rates[2])\n",
    "            \n",
    "        if wage > 21250:\n",
    "            newWage += (wage - 21250) * (1 - rates[3])\n",
    "        \n",
    "        df.at[idx, 'newWage'] = newWage\n",
    "    \n",
    "    # Calculating how much we're saving | The sum of (Old - New) values\n",
    "    grouped_Old = (df['population'] * df['meanWage']).groupby(df['group']).sum()\n",
    "    grouped_New = (df['population'] * df['newWage']).groupby(df['group']).sum()\n",
    "    \n",
    "    totalSavings = 0\n",
    "    \n",
    "    for group, total in grouped_Old.items():\n",
    "        groupedTotal = (grouped_Old[group] - grouped_New[group])\n",
    "        print(f\"{group} is saving R$ {groupedTotal:,.0f}\")\n",
    "        totalSavings += groupedTotal\n",
    "    \n",
    "    print(f\"\\nThis is equal to reducing total salary expenditure by {((totalSavings / grouped_Old.sum()) * 100).round(2)}%\")\n",
    "    print(f\"Which is also equal to R${totalSavings * 12:,.0f} per year\")\n",
    "    print(f\"\\nIn terms of GDP (2019), this equals to {((totalSavings / 7_250_000_000_000) * 100).round(2)}%\")\n",
    "    print(f\"In terms of Total Government Expenditure (2019), this equals to {((totalSavings / 2_711_000_000_000) * 100).round(2)}%\")\n",
    "    \n",
    "    return df.copy()"
   ]
  },
  {
   "cell_type": "markdown",
   "id": "37c7e3de",
   "metadata": {},
   "source": [
    "# Conclusion\n",
    "As you can see below, this experiment would be impractical in reality.\n",
    "Cutting wages is politically hard (even if it's relatively small).\n",
    "\n",
    "So a Soft Cut wouldn't be worth it (it's total impact on Gov Budget would be around 0.03%).\n",
    "\n",
    "And a Aggressive Cut would be significant, but far from miraculous.\n",
    "\n",
    "To put these numbers in perspective, I'll link how Gov Budget looked like in 2019."
   ]
  },
  {
   "cell_type": "markdown",
   "id": "d3437263",
   "metadata": {},
   "source": [
    "### Soft Cut"
   ]
  },
  {
   "cell_type": "code",
   "execution_count": 6,
   "id": "b9fb7cff",
   "metadata": {},
   "outputs": [
    {
     "name": "stdout",
     "output_type": "stream",
     "text": [
      "Executivo is saving R$ 674,333,750\n",
      "Judiciario is saving R$ 182,658,520\n",
      "Legislativo is saving R$ 55,439,500\n",
      "\n",
      "This is equal to reducing total salary expenditure by 1.97%\n",
      "Which is also equal to R$10,949,181,240 per year\n",
      "\n",
      "In terms of GDP (2019), this equals to 0.01%\n",
      "In terms of Total Government Expenditure (2019), this equals to 0.03%\n"
     ]
    }
   ],
   "source": [
    "softCut = marginalWageCut(df, [.0,.04,.08,.12])"
   ]
  },
  {
   "cell_type": "markdown",
   "id": "1e32a97b",
   "metadata": {},
   "source": [
    "### Agressive Cut"
   ]
  },
  {
   "cell_type": "code",
   "execution_count": 7,
   "id": "0ecd3539",
   "metadata": {},
   "outputs": [
    {
     "name": "stdout",
     "output_type": "stream",
     "text": [
      "Executivo is saving R$ 3,533,405,324\n",
      "Judiciario is saving R$ 824,363,856\n",
      "Legislativo is saving R$ 265,298,058\n",
      "\n",
      "This is equal to reducing total salary expenditure by 9.96%\n",
      "Which is also equal to R$55,476,806,856 per year\n",
      "\n",
      "In terms of GDP (2019), this equals to 0.06%\n",
      "In terms of Total Government Expenditure (2019), this equals to 0.17%\n"
     ]
    }
   ],
   "source": [
    "aggCut = marginalWageCut(df, [.03,.15,.35,.66])"
   ]
  },
  {
   "cell_type": "markdown",
   "id": "28710c60",
   "metadata": {},
   "source": [
    "<img src=\"https://auditoriacidada.org.br/wp-content/uploads/2020/05/Grafico-Orcamento-2019-html.jpg\" style=\"height:500px\" />\n",
    "\n",
    "As you can see, while we could save theoretically up to 55.5 Billion BRL with an aggressive cut, amortization and interest on public debt alone is around 1 Trillion BRL"
   ]
  },
  {
   "cell_type": "markdown",
   "id": "488982ef",
   "metadata": {},
   "source": [
    "### Visualizing salaries, before and after"
   ]
  },
  {
   "cell_type": "code",
   "execution_count": 8,
   "id": "32c3edce",
   "metadata": {},
   "outputs": [],
   "source": [
    "# Combine the dataframes to plot later\n",
    "aggCut['type'] = 'Aggressive Cut'\n",
    "softCut['type'] = 'Soft Cut'\n",
    "df['type'] = 'No Cut (Original Wages)'\n",
    "\n",
    "combined_df = pd.concat([aggCut, softCut, df], axis=0)\n",
    "\n",
    "combined_df.reset_index(drop=True, inplace=True) # Without this, next line returns an error\n",
    "combined_df.loc[combined_df['type'] == 'No Cut (Original Wages)', 'newWage'] = combined_df['meanWage']"
   ]
  },
  {
   "cell_type": "code",
   "execution_count": 9,
   "id": "c2bfdf20",
   "metadata": {},
   "outputs": [
    {
     "data": {
      "image/png": "[encoded data removed]",
      "text/plain": [
       "<Figure size 1500x800 with 1 Axes>"
      ]
     },
     "metadata": {},
     "output_type": "display_data"
    }
   ],
   "source": [
    "salary_order = ['< 2,5 mil', '2,5 - 5 mil', '5 - 7,5 mil', '7,5 - 10 mil', '10 - 12,5 mil', \n",
    "                '12,5 - 15 mil', '15 - 17,5 mil', '17,5 - 20 mil', '20 - 22,5 mil', '22,5 - 25 mil',\n",
    "                '25 - 27,5 mil', '27,5 - 30 mil', '> 30 mil']\n",
    "\n",
    "plt.figure(figsize=(15, 8))\n",
    "sns.barplot(x='range',\n",
    "            y='newWage',\n",
    "            hue='type',\n",
    "            hue_order = [\"No Cut (Original Wages)\",\"Soft Cut\", \"Aggressive Cut\"],\n",
    "            order = salary_order,\n",
    "            data=combined_df)\n",
    "plt.title('Salary Comparison with different types of cuts')\n",
    "plt.xlabel('Old Salary Range')\n",
    "plt.ylabel('Actual Salary')\n",
    "plt.xticks(rotation=45)\n",
    "plt.show()"
   ]
  },
  {
   "cell_type": "markdown",
   "id": "066b1b6b",
   "metadata": {},
   "source": [
    "## Final Note:\n",
    "\n",
    "Again, this notebook is a mere rough estimation of how much we could potentially save. In practice, the numbers would differ because of:\n",
    "- Technical reasons (cited in the intro)\n",
    "- Political reasons: like excluding certain categories in the cut\n",
    "- Accounting reasons: the original data may not include \"pendants/benefits\" that some privileged categories have (specially in the judiciary sector, judges for instance). Such benefits often are higher than the actual 'wage' they receive."
   ]
  },
  {
   "cell_type": "code",
   "execution_count": 10,
   "id": "51fe17dc",
   "metadata": {},
   "outputs": [],
   "source": [
    "###\n",
    "\n",
    "\n",
    "\n",
    "\n",
    "\n",
    "\n",
    "\n",
    "\n",
    "\n",
    "\n",
    "\n",
    "\n",
    "\n",
    "\n",
    "\n",
    "\n",
    "\n",
    "\n",
    "\n",
    "\n",
    "\n",
    "###"
   ]
  }
 ],
 "metadata": {
  "kernelspec": {
   "display_name": "Python 3 (ipykernel)",
   "language": "python",
   "name": "python3"
  },
  "language_info": {
   "codemirror_mode": {
    "name": "ipython",
    "version": 3
   },
   "file_extension": ".py",
   "mimetype": "text/x-python",
   "name": "python",
   "nbconvert_exporter": "python",
   "pygments_lexer": "ipython3",
   "version": "3.10.13"
  }
 },
 "nbformat": 4,
 "nbformat_minor": 5
}
