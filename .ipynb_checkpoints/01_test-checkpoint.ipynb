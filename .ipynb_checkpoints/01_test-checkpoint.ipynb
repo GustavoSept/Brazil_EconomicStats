{
 "cells": [
  {
   "cell_type": "markdown",
   "id": "7fbe86a5",
   "metadata": {},
   "source": [
    "# How much money can we save by cutting public sector wages?"
   ]
  },
  {
   "cell_type": "code",
   "execution_count": 1,
   "id": "1a64e03d",
   "metadata": {},
   "outputs": [],
   "source": [
    "import pandas as pd\n",
    "import numpy as np"
   ]
  },
  {
   "cell_type": "code",
   "execution_count": 2,
   "id": "91af1218",
   "metadata": {},
   "outputs": [],
   "source": [
    "def generate_normal_distribution(df, sphere, level, num_points=1_000):\n",
    "    \"\"\"\n",
    "    Generates a normal distribution based on decile data for a given sphere and level.\n",
    "    \n",
    "    Parameters:\n",
    "    - df (DataFrame): DataFrame containing the decile data\n",
    "    - sphere (str): Sphere (e.g., \"Executivo\", \"Judiciário\", \"Legislativo\")\n",
    "    - level (str): Level (e.g., \"Federal\", \"Estadual\", \"Municipal\")\n",
    "    - num_points (int): Number of data points to generate in the normal distribution\n",
    "    \n",
    "    Returns:\n",
    "    - np.ndarray: NumPy array containing the generated normal distribution\n",
    "    \"\"\"\n",
    "    \n",
    "    # Filter the DataFrame based on sphere and level, and ignore grouped entries\n",
    "    df_filtered = df[(df['origem'] == sphere) | (df['origem'] == level)]\n",
    "    \n",
    "    # Check if the filtered DataFrame is empty\n",
    "    if df_filtered.empty:\n",
    "        return \"No data available for the specified sphere and level.\"\n",
    "    \n",
    "    # Extract decile values\n",
    "    deciles = df_filtered['valor'].values\n",
    "    \n",
    "    # Calculate mean and standard deviation based on the decile values\n",
    "    mean = np.mean(deciles)\n",
    "    std_dev = np.std(deciles)\n",
    "    \n",
    "    # Generate a normal distribution based on the calculated mean and standard deviation\n",
    "    normal_distribution = np.random.normal(mean, std_dev, num_points)\n",
    "    \n",
    "    return normal_distribution"
   ]
  },
  {
   "cell_type": "code",
   "execution_count": null,
   "id": "5b555381",
   "metadata": {},
   "outputs": [],
   "source": [
    "df = pd.read_csv()"
   ]
  },
  {
   "cell_type": "code",
   "execution_count": null,
   "id": "969dd5b1",
   "metadata": {},
   "outputs": [],
   "source": []
  },
  {
   "cell_type": "code",
   "execution_count": null,
   "id": "1ab3b591",
   "metadata": {},
   "outputs": [],
   "source": []
  },
  {
   "cell_type": "code",
   "execution_count": null,
   "id": "0d179a7d",
   "metadata": {},
   "outputs": [],
   "source": []
  },
  {
   "cell_type": "code",
   "execution_count": null,
   "id": "bedaef2e",
   "metadata": {},
   "outputs": [],
   "source": []
  },
  {
   "cell_type": "code",
   "execution_count": 3,
   "id": "51fe17dc",
   "metadata": {},
   "outputs": [],
   "source": [
    "###\n",
    "\n",
    "\n",
    "\n",
    "\n",
    "\n",
    "\n",
    "\n",
    "\n",
    "\n",
    "\n",
    "\n",
    "\n",
    "\n",
    "\n",
    "\n",
    "\n",
    "\n",
    "\n",
    "\n",
    "\n",
    "\n",
    "###"
   ]
  }
 ],
 "metadata": {
  "kernelspec": {
   "display_name": "Python 3 (ipykernel)",
   "language": "python",
   "name": "python3"
  },
  "language_info": {
   "codemirror_mode": {
    "name": "ipython",
    "version": 3
   },
   "file_extension": ".py",
   "mimetype": "text/x-python",
   "name": "python",
   "nbconvert_exporter": "python",
   "pygments_lexer": "ipython3",
   "version": "3.10.13"
  }
 },
 "nbformat": 4,
 "nbformat_minor": 5
}
