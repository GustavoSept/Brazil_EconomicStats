{
 "cells": [
  {
   "cell_type": "markdown",
   "id": "7fbe86a5",
   "metadata": {},
   "source": [
    "# Testing git commands"
   ]
  },
  {
   "cell_type": "markdown",
   "id": "647d0652",
   "metadata": {},
   "source": [
    "## What is 2 + 2?"
   ]
  },
  {
   "cell_type": "code",
   "execution_count": 2,
   "id": "91af1218",
   "metadata": {},
   "outputs": [
    {
     "data": {
      "text/plain": [
       "4"
      ]
     },
     "execution_count": 2,
     "metadata": {},
     "output_type": "execute_result"
    }
   ],
   "source": [
    "2 + 2"
   ]
  },
  {
   "cell_type": "code",
   "execution_count": null,
   "id": "db096e57",
   "metadata": {},
   "outputs": [],
   "source": []
  }
 ],
 "metadata": {
  "kernelspec": {
   "display_name": "Python 3 (ipykernel)",
   "language": "python",
   "name": "python3"
  },
  "language_info": {
   "codemirror_mode": {
    "name": "ipython",
    "version": 3
   },
   "file_extension": ".py",
   "mimetype": "text/x-python",
   "name": "python",
   "nbconvert_exporter": "python",
   "pygments_lexer": "ipython3",
   "version": "3.10.9"
  }
 },
 "nbformat": 4,
 "nbformat_minor": 5
}
